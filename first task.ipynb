{
 "cells": [
  {
   "cell_type": "code",
   "execution_count": 1,
   "id": "ad296470",
   "metadata": {},
   "outputs": [],
   "source": [
    "import tkinter as tk\n",
    "from tkinter import messagebox\n",
    "\n",
    "def add_item():\n",
    "    item = item_entry.get()\n",
    "    if item:\n",
    "        items_listbox.insert(tk.END, item)\n",
    "        items_entry.delete(0, tk.END)\n",
    "    else:\n",
    "        messagebox.showwarning(\"Warning\", \"Please enter a item.\")\n",
    "\n",
    "root = tk.Tk()\n",
    "root.title(\"To-Do List\")\n",
    "\n",
    "heading_label = tk.Label(root, text=\"To Do List\", font=(\"Helvetica\", 16, \"bold\"), bg=\"green\")\n",
    "heading_label.pack(pady=10)\n",
    "\n",
    "\n",
    "heading_label = tk.Label(root, text=\"Add Item\")\n",
    "heading_label.pack(padx=10, pady=10)\n",
    "\n",
    "item_entry = tk.Entry(root)\n",
    "add_button = tk.Button(root, text=\"submit\", command=add_item)\n",
    "items_listbox = tk.Listbox(root)\n",
    "\n",
    "item_entry.pack(fill=tk.BOTH, padx=153, pady=5)\n",
    "add_button.pack(pady=5)\n",
    "items_listbox.pack(fill=tk.BOTH, pady=5, expand=True)\n",
    "                   \n",
    "root.mainloop()\n",
    "\n",
    "\n",
    "\n",
    "\n"
   ]
  },
  {
   "cell_type": "code",
   "execution_count": null,
   "id": "3aadc03d",
   "metadata": {},
   "outputs": [],
   "source": []
  }
 ],
 "metadata": {
  "kernelspec": {
   "display_name": "Python 3 (ipykernel)",
   "language": "python",
   "name": "python3"
  },
  "language_info": {
   "codemirror_mode": {
    "name": "ipython",
    "version": 3
   },
   "file_extension": ".py",
   "mimetype": "text/x-python",
   "name": "python",
   "nbconvert_exporter": "python",
   "pygments_lexer": "ipython3",
   "version": "3.10.9"
  }
 },
 "nbformat": 4,
 "nbformat_minor": 5
}
